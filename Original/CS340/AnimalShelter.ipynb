{
 "cells": [
  {
   "cell_type": "code",
   "execution_count": 4,
   "id": "7e1b0b63",
   "metadata": {},
   "outputs": [],
   "source": [
    "                                                                                                                                                                                                                from pymongo import MongoClient\n",
    "from bson.objectid import ObjectId\n",
    "    \n",
    "class AnimalShelter(object):\n",
    "    \"\"\" CRUD operations for Animal collection in MongoDB \"\"\"\n",
    "    \n",
    "    def __init__(self, username, password):\n",
    "        # Initializing the MongoClient. This helps to \n",
    "        # access the MongoDB databases and collections. \n",
    "        USER = accuser\n",
    "        PASS = accuser\n",
    "        HOST = 'nv-desktop-services.apporto.com'\n",
    "        PORT = 30405\n",
    "        DB ='aac'\n",
    "        COL = 'animals'\n",
    "        self.client = MongoClient('mongodb://%s:%s@%s:%d' %(USER,PASS,HOST,PORT))\n",
    "        self.database = self.client['%s' % (DB)]\n",
    "        self.collection = self.database['%s' % (COL)]\n",
    "        \n",
    "    # Complete this create method to implement the C in CRUD\n",
    "    def create(self, data):\n",
    "        if data is not None:\n",
    "            self.database.animals.insert_one(data)  # data should be dictionary\n",
    "            return True    \n",
    "        else:\n",
    "            print(\"Nothing to save, because data parameter is empty\")\n",
    "            return False\n",
    "            \n",
    "            \n",
    "    # Complete this create method to implement the R in CRUD\n",
    "    def read(self, criteria=None):\n",
    "        if criteria is not None:\n",
    "            return self.database.animals.find(criteria)\n",
    "            #for document in data:\n",
    "            #    print(document)\n",
    "            \n",
    "        else:\n",
    "            return False\n",
    "        #return data\n",
    "    \n",
    "    #Create method to implement the U the CRUD.\n",
    "    def update(self, searchData, updateData):\n",
    "        if searchData is not None:\n",
    "            result = self.database.animals.update_many(searchData, { \"$set\": updateData })\n",
    "        else:\n",
    "            return \"{}\"\n",
    "        #Return the dataset else let the error flow up\n",
    "        return result.raw_result\n",
    "    \n",
    "    #Create method to implement the D in CRUD.\n",
    "    def delete(self, deleteData):\n",
    "        if deleteData is not None:\n",
    "            result = self.database.animals.delete_many(deleteData)\n",
    "        else:\n",
    "            return \"{}\"\n",
    "        #Return the dataset else let the error flow up\n",
    "        return result.raw_result"
   ]
  },
  {
   "cell_type": "code",
   "execution_count": null,
   "id": "0707237b",
   "metadata": {},
   "outputs": [],
   "source": []
  }
 ],
 "metadata": {
  "kernelspec": {
   "display_name": "Python 3 (ipykernel)",
   "language": "python",
   "name": "python3"
  },
  "language_info": {
   "codemirror_mode": {
    "name": "ipython",
    "version": 3
   },
   "file_extension": ".py",
   "mimetype": "text/x-python",
   "name": "python",
   "nbconvert_exporter": "python",
   "pygments_lexer": "ipython3",
   "version": "3.9.12"
  }
 },
 "nbformat": 4,
 "nbformat_minor": 5
}
